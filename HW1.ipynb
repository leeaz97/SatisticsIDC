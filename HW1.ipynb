{
 "cells": [
  {
   "cell_type": "markdown",
   "metadata": {},
   "source": [
    "### IDs:\n",
    "Insert yours IDs to the cell below"
   ]
  },
  {
   "cell_type": "markdown",
   "metadata": {},
   "source": [
    "ID #1:301315040\n",
    "\n",
    "ID #2:316223650\n"
   ]
  },
  {
   "cell_type": "markdown",
   "metadata": {},
   "source": [
    "## Read the following instructions carefully:\n",
    "\n",
    "1. This jupyter notebook contains all the step by step instructions needed for this exercise.\n",
    "1. You are free to add cells.\n",
    "1. Write your functions and your answers in this jupyter notebook only.\n",
    "1. Answers to theoretical questions should be written in **markdown cells (with $\\LaTeX$ support)**.\n",
    "1. Submit this jupyter notebook only using your ID as a filename. Not to use ZIP or RAR. For example, your Moodle submission file name should look like this (two id numbers): `123456789_987654321.ipynb`."
   ]
  },
  {
   "cell_type": "code",
   "execution_count": 6,
   "metadata": {},
   "outputs": [],
   "source": [
    "import matplotlib\n",
    "import matplotlib.pyplot as plt\n",
    "import numpy as np\n",
    "from scipy import stats\n",
    "import math"
   ]
  },
  {
   "cell_type": "markdown",
   "metadata": {},
   "source": [
    "### Question 1 - Defective products"
   ]
  },
  {
   "cell_type": "markdown",
   "metadata": {},
   "source": [
    "In a manufacturing pipeline products are 3% defective. We are interested in examining a defective product to see what goes wrong on the belt. We need to ask the facility manager to send us a set of independent samples for examination."
   ]
  },
  {
   "cell_type": "markdown",
   "metadata": {},
   "source": [
    "#### 1.A\n",
    "\n",
    "How many independent samples should we ask for in order to have a 85% probability of having at least one defective product in the batch sent? You should write a function."
   ]
  },
  {
   "cell_type": "code",
   "execution_count": 7,
   "metadata": {},
   "outputs": [],
   "source": [
    "# X ~ NBinom(r,p); the number of sample needed in order to see r successes (i.e. r defective products)\n",
    "# each product sample is a Bernoulli(p);\n",
    "# in 1.A & 1.b, since r=1 => X ~ Geo(p)\n",
    "\n",
    "\n",
    "def num_indp_sample_needed(r, p_defective, probability):\n",
    "    \"\"\" We are looking for the first integer x in [r,inf) that holds CDF(x)>=probability \n",
    "\n",
    "        Returns: ( X~NBinom(r,p), the number of samples that holds the probability requirement )\n",
    "    \"\"\"\n",
    "    X = stats.nbinom(r, p_defective, loc=r)\n",
    "    i = 0\n",
    "    EX = round(X.mean())\n",
    "    while True:\n",
    "        possible_Xs = range(max(r, i*EX), (i+1)*EX) # we sample Xs from [max(r, iE(X)), (i+1)E(X)] (i is a positive integer)\n",
    "        cdf_values = X.cdf(possible_Xs)\n",
    "        if np.all(cdf_values<probability):\n",
    "            i = i + 1\n",
    "        else:\n",
    "            return X, possible_Xs[np.argmax(cdf_values>=probability)]\n",
    "\n",
    "def print_Q1_res(n_samples, probability, r_defective_items):\n",
    "    print(f'We need to sample {n_samples} independent samples in order to have '\n",
    "          f'{round(probability*100)}% of having at least {r_defective_items} defective product.')"
   ]
  },
  {
   "cell_type": "code",
   "execution_count": 8,
   "metadata": {},
   "outputs": [
    {
     "name": "stdout",
     "output_type": "stream",
     "text": [
      "We need to sample 63 independent samples in order to have 85% of having at least 1 defective product.\n"
     ]
    }
   ],
   "source": [
    "r = 1\n",
    "p1x = 0.03\n",
    "prob1 = 0.85\n",
    "\n",
    "_, n_samples1A = num_indp_sample_needed(r, p1x, prob1)\n",
    "print_Q1_res(n_samples1A, prob1, r)"
   ]
  },
  {
   "cell_type": "code",
   "execution_count": 9,
   "metadata": {},
   "outputs": [
    {
     "data": {
      "text/plain": [
       "0.8576390121151486"
      ]
     },
     "execution_count": 9,
     "metadata": {},
     "output_type": "execute_result"
    }
   ],
   "source": [
    "# Sanity check\n",
    "stats.nbinom.cdf(n_samples1A, r, p1x)"
   ]
  },
  {
   "cell_type": "markdown",
   "metadata": {},
   "source": [
    "#### 1.B\n",
    "Answer this part again with the following changes: products are 4% defective and we want a 95% probability of at least one defective product in the batch."
   ]
  },
  {
   "cell_type": "code",
   "execution_count": 10,
   "metadata": {},
   "outputs": [
    {
     "name": "stdout",
     "output_type": "stream",
     "text": [
      "We need to sample 74 independent samples in order to have 95% of having at least 1 defective product.\n"
     ]
    }
   ],
   "source": [
    "p2x = 0.04\n",
    "prob2 = 0.95\n",
    "\n",
    "_, n_samples1B = num_indp_sample_needed(r, p2x, prob2)\n",
    "print_Q1_res(n_samples1B, prob2, r)"
   ]
  },
  {
   "cell_type": "code",
   "execution_count": 11,
   "metadata": {},
   "outputs": [
    {
     "data": {
      "text/plain": [
       "0.9531895864481588"
      ]
     },
     "execution_count": 11,
     "metadata": {},
     "output_type": "execute_result"
    }
   ],
   "source": [
    "# Sanity check\n",
    "stats.nbinom.cdf(n_samples1B, r, p2x)"
   ]
  },
  {
   "cell_type": "markdown",
   "metadata": {},
   "source": [
    "#### 1.C \n",
    "\n",
    "Consider the following cases and calculate how many independent samples are required: \n",
    "\n",
    "1. Products are 10% defective and we want a 90% probability of at least 5 defective products in the batch.\n",
    "1. Products are 30% defective and we want a 90% probability of at least 15 defective products in the batch.\n",
    "\n",
    "Explain the difference between the two results. You should use mathematical reasoning based on the properties of distributions you saw in class and visualizations in your answer."
   ]
  },
  {
   "cell_type": "code",
   "execution_count": 12,
   "metadata": {},
   "outputs": [
    {
     "name": "stdout",
     "output_type": "stream",
     "text": [
      "We need to sample 78 independent samples in order to have 90% of having at least 5 defective product.\n"
     ]
    }
   ],
   "source": [
    "# 1.C.1\n",
    "\n",
    "r_c1=5\n",
    "p3x=0.1\n",
    "prob3=0.9\n",
    "\n",
    "X_c1, n_samples1C1 = num_indp_sample_needed(r_c1, p3x, prob3)\n",
    "print_Q1_res(n_samples1C1, prob3, r_c1)"
   ]
  },
  {
   "cell_type": "code",
   "execution_count": 13,
   "metadata": {},
   "outputs": [
    {
     "name": "stdout",
     "output_type": "stream",
     "text": [
      "We need to sample 64 independent samples in order to have 90% of having at least 15 defective product.\n"
     ]
    }
   ],
   "source": [
    "# 1.C.2\n",
    "\n",
    "r_c2=15\n",
    "p4x=0.3\n",
    "prob4=0.9\n",
    "\n",
    "X_c2, n_samples1C2 = num_indp_sample_needed(r_c2, p4x, prob4)\n",
    "print_Q1_res(n_samples1C2, prob4, r_c2)"
   ]
  },
  {
   "cell_type": "code",
   "execution_count": 14,
   "metadata": {
    "scrolled": true
   },
   "outputs": [
    {
     "data": {
      "text/plain": [
       "Text(0, 0.5, 'PDF')"
      ]
     },
     "execution_count": 14,
     "metadata": {},
     "output_type": "execute_result"
    },
    {
     "data": {
      "image/png": "[encoded data removed]",
      "text/plain": [
       "<Figure size 1008x360 with 2 Axes>"
      ]
     },
     "metadata": {
      "needs_background": "light"
     },
     "output_type": "display_data"
    }
   ],
   "source": [
    "# TODO[]: explain the difference\n",
    "\n",
    "C= 2.5\n",
    "step = 3\n",
    "X_c1_range = range(r_c1, round(X_c1.mean()*C), step)\n",
    "X_c2_range = range(r_c2, round(X_c2.mean()*C), step)\n",
    "\n",
    "\n",
    "fig, ax = plt.subplots(1, 2, figsize=(14,5))\n",
    "\n",
    "# CDF plot\n",
    "ax[0].scatter(X_c1_range, X_c1.cdf(X_c1_range), c='r')\n",
    "ax[0].scatter(X_c2_range, X_c2.cdf(X_c2_range), c='b')\n",
    "\n",
    "ax[0].axhline(prob3, c='g');\n",
    "\n",
    "ax[0].grid(alpha=0.5, linestyle='dashed')\n",
    "ax[0].legend(['90%', f'X_c1~NB({p3x},{r_c1})', f'X_c2~NB({p4x},{r_c2})']);\n",
    "\n",
    "ax[0].set_ylabel(\"CDF\")\n",
    "\n",
    "# PDF plot\n",
    "ax[1].scatter(X_c1_range, X_c1.pmf(X_c1_range), c='r')\n",
    "ax[1].scatter(X_c2_range, X_c2.pmf(X_c2_range), c='b')\n",
    "\n",
    "ax[1].grid(alpha=0.5, linestyle='dashed')\n",
    "ax[1].legend([f'X_c1~NB({p3x},{r_c1})', f'X_c2~NB({p4x},{r_c2})']);\n",
    "\n",
    "ax[1].set_xlabel('# Collected products with r defective products')\n",
    "ax[1].set_ylabel(\"PDF\")\n"
   ]
  },
  {
   "cell_type": "markdown",
   "metadata": {},
   "source": [
    "let's calculate the mean and the variance of each case:"
   ]
  },
  {
   "cell_type": "code",
   "execution_count": 15,
   "metadata": {},
   "outputs": [
    {
     "name": "stdout",
     "output_type": "stream",
     "text": [
      "Mean of the distribution C1: 50.0\n",
      "Mean of the distribution C2: 50.0\n",
      "Variance of the distribution C1: 450.0\n",
      "Variance of the distribution C2: 116.66666666666667\n"
     ]
    }
   ],
   "source": [
    "print(f'Mean of the distribution C1: {X_c1.mean()}')\n",
    "print(f'Mean of the distribution C2: {X_c2.mean()}')\n",
    "print(f'Variance of the distribution C1: {X_c1.var()}')\n",
    "print(f'Variance of the distribution C2: {X_c2.var()}')"
   ]
  },
  {
   "cell_type": "markdown",
   "metadata": {},
   "source": [
    "like we can see the mean is equal (the defective items and the probability are 3 times larger more in C2 than C1),\n",
    "while V(X_c2) < V(X_c1) - this means that the critical mass of X_c2 is more centered around its mean, like we see in the graph \n",
    "so it makes sense that Y will reach 90% first."
   ]
  },
  {
   "cell_type": "markdown",
   "metadata": {},
   "source": [
    "### Question 2 - Rent distributions in Randomistan"
   ]
  },
  {
   "cell_type": "markdown",
   "metadata": {},
   "source": [
    "The state of Randomistan conducted a survey to study the distribution of rent paid in two neighboring towns, Stochastic Heights and Random Grove, to be denoted SH and RG.<br> \n",
    "\n",
    "Here are some findings of the survey:\n",
    "* The population of SH and RG is 16,000 and 22,000 respectively. <br>\n",
    "* The mean rent in SH and RG is 6300RCU and 4200RCU respectively.\n",
    "* The median rent is 4600RCU in both towns.\n",
    "* The IQR of the rent is smaller in SH than in RG.\n",
    "\n",
    "All data generated in this question needs to be consistent with these findings."
   ]
  },
  {
   "cell_type": "code",
   "execution_count": 16,
   "metadata": {},
   "outputs": [
    {
     "data": {
      "text/plain": [
       "array([[0., 0., 0., 0., 0., 0.]])"
      ]
     },
     "execution_count": 16,
     "metadata": {},
     "output_type": "execute_result"
    }
   ],
   "source": [
    "np.zeros((1, 6))"
   ]
  },
  {
   "cell_type": "code",
   "execution_count": 17,
   "metadata": {},
   "outputs": [],
   "source": [
    "def generate_dist(name, population, mean_rent, median_rent, iqr_factor=None, level_rcu_jump=100, print_stat=True):\n",
    "    # iqr_factor affects only if mean_rent > median_rent\n",
    "    \n",
    "    rents = np.zeros((population,), dtype=int)\n",
    "    median_upper_ind = round(population/2)\n",
    "    median_lower_ind = round(population/2)-1\n",
    "    median_idc = np.array(range(median_lower_ind,median_upper_ind+1))\n",
    "    \n",
    "    dist_from_mean = 0\n",
    "    keep_mean = False\n",
    "    \n",
    "    iP25 = population*0.25\n",
    "    iP75 = population*0.75\n",
    "    \n",
    "    rng = np.random.default_rng()\n",
    "    for i in range(round(population/2)):\n",
    "        delta = mean_rent-median_rent\n",
    "        if delta > 0:\n",
    "            rents[median_lower_ind - i] = median_rent\n",
    "            if not keep_mean:\n",
    "                dist_from_mean -= mean_rent - rents[median_lower_ind - i]\n",
    "            \n",
    "            if dist_from_mean < 0 and not keep_mean:\n",
    "                # fix mode\n",
    "                rents[median_upper_ind + i] = min(median_rent + level_rcu_jump * i, median_rent*iqr_factor) \\\n",
    "                                              if i < (population/4) else \\\n",
    "                                              median_rent*iqr_factor + level_rcu_jump * (i-(population/4))\n",
    "                dist_from_mean -= mean_rent - rents[median_upper_ind + i]\n",
    "                if dist_from_mean >= 0:\n",
    "                    if rents[median_lower_ind - i] - dist_from_mean >= 0:\n",
    "                        rents[median_lower_ind - i] -= dist_from_mean\n",
    "                    else:\n",
    "                        # we don't want negative rent values so we spread the leftovers of dist_from_mean over a few values\n",
    "                        j = 0\n",
    "                        while dist_from_mean:\n",
    "                            rents[median_lower_ind - i + j] -= level_rcu_jump\n",
    "                            dist_from_mean -= level_rcu_jump\n",
    "                            j += 1\n",
    "                            \n",
    "                    dist_from_mean = 0\n",
    "                    keep_mean = True\n",
    "            else:\n",
    "                rents[median_upper_ind + i] = mean_rent + delta\n",
    "\n",
    "        else: # delta <= 0 \n",
    "            rents[median_upper_ind + i] = median_rent\n",
    "            if not keep_mean:\n",
    "                dist_from_mean -= mean_rent - rents[median_upper_ind + i]\n",
    "                \n",
    "            if dist_from_mean > 0 and not keep_mean:\n",
    "                # fix mode\n",
    "                rents[median_lower_ind - i] = median_rent - level_rcu_jump * i\n",
    "                dist_from_mean -= mean_rent - rents[median_lower_ind - i]\n",
    "                if dist_from_mean <= 0:\n",
    "                    rents[median_upper_ind + i] += dist_from_mean\n",
    "                    dist_from_mean = 0\n",
    "                    keep_mean = True\n",
    "            else:\n",
    "                rents[median_lower_ind - i] = mean_rent + delta\n",
    "    \n",
    "    if print_stat:\n",
    "        print(f'Stats for {name}: population={population}, mean_rent={rents.mean()}, ' \n",
    "              f'median_rent={np.median(rents)}, iqr_rent={stats.iqr(rents)},var={rents.var()}')\n",
    "    \n",
    "    return rents\n",
    "    "
   ]
  },
  {
   "cell_type": "code",
   "execution_count": 18,
   "metadata": {},
   "outputs": [
    {
     "name": "stdout",
     "output_type": "stream",
     "text": [
      "Stats for Stochastic Heights: population=16000, mean_rent=6300.0, median_rent=4600.0, iqr_rent=400.0,var=29895681.25\n",
      "Stats for Random Grove: population=22000, mean_rent=4200.0, median_rent=4600.0, iqr_rent=800.0,var=160185.45454545456\n"
     ]
    }
   ],
   "source": [
    "SH = generate_dist(name='Stochastic Heights', population=16000, mean_rent=6300, median_rent=4600, iqr_factor=5000/4600)\n",
    "RG = generate_dist(name='Random Grove', population=22000, mean_rent=4200, median_rent=4600)"
   ]
  },
  {
   "cell_type": "markdown",
   "metadata": {},
   "source": [
    "#### 2.A\n",
    "Draw histograms that describe 2 different scenarii of possible distributions of rent in the two towns.\u000b",
    "Your histograms should:<br>\n",
    "* Use bins of 100RCU each.\n",
    "* Have at least 10 non zero bins."
   ]
  },
  {
   "cell_type": "code",
   "execution_count": 19,
   "metadata": {},
   "outputs": [
    {
     "data": {
      "text/plain": [
       "Text(0, 0.5, 'Rent Price')"
      ]
     },
     "execution_count": 19,
     "metadata": {},
     "output_type": "execute_result"
    },
    {
     "data": {
      "image/png": "[encoded data removed]",
      "text/plain": [
       "<Figure size 2016x2016 with 2 Axes>"
      ]
     },
     "metadata": {
      "needs_background": "light"
     },
     "output_type": "display_data"
    }
   ],
   "source": [
    "fig, axes = plt.subplots(2,1, figsize=(28,28))\n",
    "axes[0].hist(SH, bins=100, log=True);\n",
    "axes[1].hist(RG, bins=100, log=True);\n",
    "axes[0].set_title('Stochastic Heights')\n",
    "axes[0].set_ylabel(\"Rent Price\")\n",
    "axes[1].set_title('Random Grove')\n",
    "axes[1].set_ylabel(\"Rent Price\")\n"
   ]
  },
  {
   "cell_type": "markdown",
   "metadata": {},
   "source": [
    "#### 2.B\n",
    "Draw a histogram of a third scenario with the same properties. <br>\n",
    "In addition, in this scenario the rent in SH should have a higher variance than the rent in RG."
   ]
  },
  {
   "cell_type": "code",
   "execution_count": 20,
   "metadata": {},
   "outputs": [
    {
     "name": "stdout",
     "output_type": "stream",
     "text": [
      "SH variance: 29895681.25\n",
      "RG variance: 160185.45454545456\n"
     ]
    }
   ],
   "source": [
    "# it is already satisffied by 2.A data\n",
    "print(f'SH variance: {SH.var()}')\n",
    "print(f'RG variance: {RG.var()}')"
   ]
  },
  {
   "cell_type": "markdown",
   "metadata": {},
   "source": [
    "The survey also examined the per household income (PHI) in these two places.<br>\n",
    "\n",
    "It found that:<br>\n",
    "* The mean of PHI in SH is 12500 and in RG is 8500.\n",
    "* The median is 12000 in SH and 8000 in RG.\n",
    "* The covariance of the rent and the PHI was observed to be as in the formula below with $\\alpha=97\\%$ and $\\alpha=89\\%$ in SH and in RG respectively.<br><br>\n",
    "$$Cov(rent, PHI) = \\alpha * \\sqrt{Var(rent)} * \\sqrt{Var(PHI)}$$\n",
    "\n",
    "#### 2.C\n",
    "Produce rent and PHI data for the two cities, that is consistent with these findings. The covariances in your data can deviate by up to 1% from the numbers given $\\alpha$."
   ]
  },
  {
   "cell_type": "code",
   "execution_count": 21,
   "metadata": {},
   "outputs": [],
   "source": [
    "def covariance_rent_and_PHI(name,rent,phi,alpha):\n",
    "    np_cov = np.cov(rent, phi)[0, 1]\n",
    "    expected_cov = alpha * math.sqrt(np.var(rent)) * math.sqrt(np.var(phi))\n",
    "    print(f\"Stats for {name}:  covariance ratio = {(np_cov/expected_cov)*100}\")"
   ]
  },
  {
   "cell_type": "code",
   "execution_count": 22,
   "metadata": {},
   "outputs": [],
   "source": [
    "# SH_PHI = generate_dist(name='Stochastic Heights PHI', population=16000, mean_rent=12500, median_rent=12000,iqr_factor=0.51)\n",
    "# RG_PHI = generate_dist(name='Random Grove PHI', population=22000, mean_rent=8500, median_rent=8000,iqr_factor=1.1144)"
   ]
  },
  {
   "cell_type": "code",
   "execution_count": 23,
   "metadata": {},
   "outputs": [],
   "source": [
    "# covariance_rent_and_PHI('Stochastic Heights',SH,SH_PHI,0.97)\n",
    "# covariance_rent_and_PHI('Random Grove',RG,RG_PHI,0.89)"
   ]
  },
  {
   "cell_type": "code",
   "execution_count": 24,
   "metadata": {},
   "outputs": [
    {
     "name": "stdout",
     "output_type": "stream",
     "text": [
      "Stats for SH: population=1600, mean_rent=6300.0, median_rent=4600.0, iqr_rent=4000.0,var=20197500.0\n",
      "Stats for SH_PHI: population=1600, mean_rent=12500.0, median_rent=12000.0, iqr_rent=16700.0,var=127670500.0\n"
     ]
    }
   ],
   "source": [
    "SH = np.resize([50, 2200, 4300, 4400, 4500, 4700, 8000, 8300, 9500, 17050], 1600)\n",
    "print(f'Stats for SH: population=1600, mean_rent={SH.mean()}, ' \n",
    "              f'median_rent={np.median(SH)}, iqr_rent={stats.iqr(SH)},var={SH.var()}')\n",
    "\n",
    "SH_PHI = np.resize([50, 1200, 2300, 5000, 11000, 13000, 13400, 19000, 20700, 39350], 1600)\n",
    "print(f'Stats for SH_PHI: population=1600, mean_rent={SH_PHI.mean()}, ' \n",
    "              f'median_rent={np.median(SH_PHI)}, iqr_rent={stats.iqr(SH_PHI)},var={SH_PHI.var()}')"
   ]
  },
  {
   "cell_type": "code",
   "execution_count": 25,
   "metadata": {},
   "outputs": [
    {
     "name": "stdout",
     "output_type": "stream",
     "text": [
      "Stats for RG: population=2200, mean_rent=4200.0, median_rent=4600.0, iqr_rent=4100.0,var=4476000.0\n",
      "Stats for RG_PHI: population=2200, mean_rent=8500.0, median_rent=8000.0, iqr_rent=2200.0,var=4240000.0\n"
     ]
    }
   ],
   "source": [
    "RG = np.resize([1300, 1400, 1900, 2700, 4500, 4700, 5900, 6000, 6100, 7500], 2200)\n",
    "print(f'Stats for RG: population=2200, mean_rent={RG.mean()}, ' \n",
    "              f'median_rent={np.median(RG)}, iqr_rent={stats.iqr(RG)},var={RG.var()}')\n",
    "RG_PHI = np.resize([5100, 7200, 7300, 7400, 7500, 8500, 9000, 9500, 10500, 13000], 2200)\n",
    "print(f'Stats for RG_PHI: population=2200, mean_rent={RG_PHI.mean()}, ' \n",
    "              f'median_rent={np.median(RG_PHI)}, iqr_rent={stats.iqr(RG_PHI)},var={RG_PHI.var()}')"
   ]
  },
  {
   "cell_type": "code",
   "execution_count": 26,
   "metadata": {},
   "outputs": [
    {
     "name": "stdout",
     "output_type": "stream",
     "text": [
      "Stats for Stochastic Heights:  covariance ratio = 99.56126342612973\n",
      "Stats for Random Grove:  covariance ratio = 100.40161724956911\n"
     ]
    }
   ],
   "source": [
    "covariance_rent_and_PHI('Stochastic Heights',SH,SH_PHI,0.97)\n",
    "covariance_rent_and_PHI('Random Grove',RG,RG_PHI,0.89)"
   ]
  },
  {
   "cell_type": "code",
   "execution_count": null,
   "metadata": {},
   "outputs": [],
   "source": []
  },
  {
   "cell_type": "markdown",
   "metadata": {},
   "source": [
    "#### 2.D\n",
    "Produce two heatmaps that describe these two bivariate joint distributions. Make sure you carefully consider the selected binning resolution."
   ]
  },
  {
   "cell_type": "code",
   "execution_count": 27,
   "metadata": {},
   "outputs": [
    {
     "data": {
      "image/png": "[encoded data removed]",
      "text/plain": [
       "<Figure size 432x288 with 2 Axes>"
      ]
     },
     "metadata": {
      "needs_background": "light"
     },
     "output_type": "display_data"
    }
   ],
   "source": [
    "#heatmap SH\n",
    "plt.hist2d(SH,SH_PHI,bins=10,cmap='plasma')\n",
    "cb = plt.colorbar()\n",
    "cb.set_label('# households', fontsize=18)\n",
    "plt.title(\"Stochastic Heights - Rent x PHI\", fontsize=20)\n",
    "plt.xlabel('Rent', fontsize=12)\n",
    "plt.ylabel('PHI', fontsize=12)\n",
    "plt.show()"
   ]
  },
  {
   "cell_type": "code",
   "execution_count": 28,
   "metadata": {},
   "outputs": [
    {
     "data": {
      "image/png": "[encoded data removed]",
      "text/plain": [
       "<Figure size 432x288 with 2 Axes>"
      ]
     },
     "metadata": {
      "needs_background": "light"
     },
     "output_type": "display_data"
    }
   ],
   "source": [
    "#heatmap RG\n",
    "#heatmap\n",
    "plt.hist2d(RG,RG_PHI,bins=10,cmap='plasma')\n",
    "cb = plt.colorbar()\n",
    "cb.set_label('# households', fontsize=18)\n",
    "plt.title(\"Random Grove - Rent x PHI\", fontsize=20)\n",
    "plt.xlabel('Rent', fontsize=12)\n",
    "plt.ylabel('PHI', fontsize=12)\n",
    "plt.show()"
   ]
  },
  {
   "cell_type": "markdown",
   "metadata": {},
   "source": [
    "### Question 3 - Multinomial Distributions\n",
    "\n",
    "1. Let $X \\sim Multinomial(n,\\vec{p})$ be a multinomial random variable where $n=20$ and $\\vec{p} = (0.2,  0.1,  0.1,  0.1,  0.2,  0.3)$. Note that X is a vector of counts.\n",
    "\n",
    "\n",
    "2. Let $Y = X_2 + X_3 + X_4$ be a random variable.\n",
    "\n",
    "\n",
    "3. Create $k=100$ experiments where $X$ is sampled using Python. Calculate the empirical centralized third moment of $Y$ based on your $k$ experiments.\n",
    "\n",
    "\n",
    "4. Compare your result to the calculation in class for the centralized third moment of the **binomial** distribution and explain your observation."
   ]
  },
  {
   "cell_type": "markdown",
   "metadata": {},
   "source": [
    "#### Empirical centralized third moment of $Y$ calulation"
   ]
  },
  {
   "cell_type": "code",
   "execution_count": 29,
   "metadata": {},
   "outputs": [],
   "source": [
    "n = 20\n",
    "p_vec = np.array([0.2, 0.1, 0.1, 0.1, 0.2, 0.3])\n",
    "rng = np.random.default_rng()\n",
    "\n",
    "def gen_Y(k):\n",
    "    X = rng.multinomial(n, p_vec, size=k)\n",
    "    Y = np.sum(X[:,1:4], axis=1)\n",
    "    mu_Y = Y.mean()\n",
    "    pdf_Y = [sum(Y==y)/Y.shape[0] for y in range(n+1)]\n",
    "    return pdf_Y, mu_Y"
   ]
  },
  {
   "cell_type": "markdown",
   "metadata": {},
   "source": [
    "$$\\gamma_3=E((Y-\\mu(Y))^3)=\\sum_{y{\\in}Y}(y-\\mu(Y))^{3}p(y) \\\\\n",
    "y\\in[0,20]$$"
   ]
  },
  {
   "cell_type": "code",
   "execution_count": 30,
   "metadata": {},
   "outputs": [],
   "source": [
    "def empirical_g3(k):\n",
    "    pdf_Y, mu_Y = gen_Y(k)\n",
    "    return sum( [((y-mu_Y)**3)*pdf_Y[y] for y in range(n+1)] )"
   ]
  },
  {
   "cell_type": "code",
   "execution_count": 31,
   "metadata": {
    "scrolled": true
   },
   "outputs": [
    {
     "data": {
      "text/plain": [
       "0.9518880000000027"
      ]
     },
     "execution_count": 31,
     "metadata": {},
     "output_type": "execute_result"
    }
   ],
   "source": [
    "k=100\n",
    "empirical_g3(k)"
   ]
  },
  {
   "cell_type": "markdown",
   "metadata": {},
   "source": [
    "#### Centralized third moment of $Y$ as we calculated in class"
   ]
  },
  {
   "cell_type": "markdown",
   "metadata": {},
   "source": [
    "$$Y\\sim Binom(n,p=p_2+p_3+p_4) \\\\\n",
    "\\Rightarrow \\gamma_3=np(1-p)(1-2p)$$"
   ]
  },
  {
   "cell_type": "code",
   "execution_count": 32,
   "metadata": {},
   "outputs": [],
   "source": [
    "p_Y = sum(p_vec[1:4])\n",
    "g3 = n*p_Y*(1-p_Y)*(1-2*p_Y)"
   ]
  },
  {
   "cell_type": "code",
   "execution_count": 33,
   "metadata": {},
   "outputs": [
    {
     "data": {
      "text/plain": [
       "1.6799999999999997"
      ]
     },
     "execution_count": 33,
     "metadata": {},
     "output_type": "execute_result"
    }
   ],
   "source": [
    "g3"
   ]
  },
  {
   "cell_type": "markdown",
   "metadata": {},
   "source": [
    "The reason why empirical_g3!=g3 lies in the number of experiments we selected for this test ($k=100$). If we want more accourated empirical result, with no jiter, we must use a larger $k$. See demonstration in the following plot."
   ]
  },
  {
   "cell_type": "code",
   "execution_count": 34,
   "metadata": {},
   "outputs": [
    {
     "data": {
      "text/plain": [
       "Text(0, 0.5, 'Empirical gamma3')"
      ]
     },
     "execution_count": 34,
     "metadata": {},
     "output_type": "execute_result"
    },
    {
     "data": {
      "image/png": "[encoded data removed]",
      "text/plain": [
       "<Figure size 432x288 with 1 Axes>"
      ]
     },
     "metadata": {
      "needs_background": "light"
     },
     "output_type": "display_data"
    }
   ],
   "source": [
    "k_values = np.round(np.logspace(2, 5, base=10)).astype(int)\n",
    "empirical_g3_values = [empirical_g3(k) for k in k_values]\n",
    "\n",
    "fig, ax = plt.subplots()\n",
    "ax.scatter(k_values, empirical_g3_values)\n",
    "ax.set_xscale('log')\n",
    "ax.axhline(g3, c='r');\n",
    "ax.set_xlabel('k: #experiments')\n",
    "ax.set_ylabel(\"Empirical gamma3\")"
   ]
  },
  {
   "cell_type": "markdown",
   "metadata": {},
   "source": [
    "### Question 4 - Covariance and independence"
   ]
  },
  {
   "cell_type": "markdown",
   "metadata": {},
   "source": [
    "What is the variance of the sum X +Y + Z of three random variables in terms of the variances of X, Y and Z and the covariances between each pair of random variables? What happens if X,Y,Z are pairwise independent? If X,Y,Z are pairwise independent, are they necessarily collectively independent? Prove your answer."
   ]
  },
  {
   "cell_type": "markdown",
   "metadata": {},
   "source": [
    "The variance definition: \n",
    "$$ V\\left(X+Y+Z\\right)=E\\left(\\left(X+Y+Z\\right)^2\\right)-\\left(E\\left(X+Y+Z\\right)\\right)^2 $$\n",
    "\n",
    "Let's simplify this expression.\n",
    "$$ V\\left(X+Y+Z\\right)= E\\left(X^2 + XY + XZ + Y^2 + YX + YZ + Z^2 + ZX + ZY\\right) - \\left(E\\left(X+Y+Z\\right)\\right)^2 $$\n",
    "\n",
    "Using The linearity of the expectation:\n",
    "$$ \n",
    "= E\\left(X^2\\right) + E\\left(XY\\right) + E\\left(XZ\\right) + E\\left(Y^2\\right) + E\\left(YX\\right) + E\\left(YZ\\right) + E\\left(Z^2\\right) + E\\left(ZX\\right) + E\\left(ZY\\right) - \\left(E\\left(X\\right)+E\\left(Y\\right)+E\\left(Z\\right)\\right)^2 \\\\\n",
    "= E\\left(X^2\\right) + E\\left(Y^2\\right) + E\\left(Z^2\\right) + 2E\\left(XY\\right) + 2E\\left(XZ\\right) + 2E\\left(YZ\\right) - \\left(E\\left(X\\right)\\right)^2 - \\left(E\\left(Y\\right)\\right)^2 - \\left(E\\left(Z\\right)\\right)^2 -2E\\left(X\\right)E\\left(Y\\right) - 2E\\left(X\\right)E\\left(Z\\right) -2E\\left(Y\\right)E\\left(Z\\right) \\\\\n",
    "= E\\left(X^2\\right) - \\left(E\\left(X\\right)\\right)^2 + E\\left(Y^2\\right) - \\left(E\\left(Y\\right)\\right)^2 + E\\left(Z^2\\right) - \\left(E\\left(Z\\right)\\right)^2 + 2E\\left(XY\\right) -2E\\left(X\\right)E\\left(Y\\right) + 2E\\left(XZ\\right) - 2E\\left(X\\right)E\\left(Z\\right) + 2E\\left(YZ\\right) -2E\\left(Y\\right)E\\left(Z\\right)\n",
    "$$\n",
    "\n",
    "Recall that:\n",
    "1. The variance definition for $X$ random variable is $ V\\left(X\\right)=E\\left(X^2\\right)-\\left(E\\left(X\\right)\\right)^2 $\n",
    "2. The covariance definition for every $X,Y$ random variables is $Cov\\left(X,Y\\right)=E\\left(XY\\right)-E\\left(X\\right)E\\left(Y\\right)$\n",
    "\n",
    "\n",
    "Hence, we get:\n",
    "$$ V\\left(X+Y+Z\\right) \n",
    "= V\\left(X\\right)+ V\\left(Y\\right) + V\\left(Z\\right) + 2Cov\\left(X,Y\\right) + 2Cov\\left(X,Z\\right) + 2Cov\\left(Y,Z\\right)\n",
    "$$"
   ]
  },
  {
   "cell_type": "markdown",
   "metadata": {},
   "source": [
    "We proved at class that if $X,Y$ are statistically independent, then $E\\left(XY\\right)=E\\left(Y\\right)E\\left(X\\right)$\n",
    "\n",
    "Therfore, if $X,Y,Z$ are pairwise independent we get:\n",
    "\n",
    "$$ \n",
    "Cov\\left(X,Y\\right)=E\\left(XY\\right)-E\\left(X\\right)E\\left(Y\\right)=E\\left(Y\\right)E\\left(X\\right) - E\\left(X\\right)E\\left(Y\\right)=0 \\\\\n",
    "Cov\\left(X,Z\\right)=E\\left(XZ\\right)-E\\left(X\\right)E\\left(Z\\right)=E\\left(Z\\right)E\\left(X\\right) - E\\left(X\\right)E\\left(Z\\right)=0 \\\\\n",
    "Cov\\left(Y,Z\\right)=E\\left(YZ\\right)-E\\left(Y\\right)E\\left(Z\\right)=E\\left(Z\\right)E\\left(Y\\right) - E\\left(Y\\right)E\\left(Z\\right)=0 \\\\\n",
    "$$\n",
    "\n",
    "In this case, the variance of the sum will be:\n",
    "$$ V\\left(X+Y+Z\\right) = V\\left(X\\right)+ V\\left(Y\\right) + V\\left(Z\\right)\n",
    "$$\n",
    "\n"
   ]
  },
  {
   "cell_type": "markdown",
   "metadata": {},
   "source": [
    "If $X,Y,Z$ are pairwise independent, are they necessarily collectively independent? **NO**, it depends on the sample space that $X,Y,Z$ are defined on. let's see a negative example.\n",
    "\n",
    "Define \n",
    "$\\Omega=\\left\\{FFS, FSF, SSS, SFF\\right\\}$\n",
    "\n",
    "Each sample is a row of 3 experiments. An experiment result can be $S$uccess or $F$ail.\n",
    "\n",
    "$X,Y,Z$- count the number of Success in the corresponding experiment 1st,2nd,3rd\n",
    "The probabilities observed on the sample space:\n",
    "$$\n",
    "P\\left(X=S\\right)=0.5 \\\\\n",
    "P\\left(Y=S\\right)=0.5 \\\\\n",
    "P\\left(Z=S\\right)=0.5 \\\\\n",
    "P\\left(X=S,Y=S\\right)=0.25 \\\\\n",
    "P\\left(X=S,Z=S\\right)=0.25 \\\\\n",
    "P\\left(Y=S,Z=S\\right)=0.25 \\\\\n",
    "$$ \n",
    "\n",
    "We notice that \n",
    "$$\n",
    "P\\left(X=S\\right)P\\left(Y=S\\right)=0.5\\cdot0.5=0.25 \\Rightarrow X,Y independent \\\\\n",
    "P\\left(X=S\\right)P\\left(Z=S\\right)=0.5\\cdot0.5=0.25 \\Rightarrow X,Z independent \\\\\n",
    "P\\left(Y=S\\right)P\\left(Z=S\\right)=0.5\\cdot0.5=0.25 \\Rightarrow Y,Z independent \\\\\n",
    "$$\n",
    "\n",
    "However, \n",
    "$$ \n",
    "P\\left(X=S,Y=S,Z=S\\right)=0.25 \\\\\n",
    "P\\left(X=S\\right)P\\left(Y=S\\right)P\\left(Z=S\\right)=0.5^3=0.125 \\\\\n",
    "P\\left(X=S,Y=S,Z=S\\right) \\ne P\\left(X=S\\right)P\\left(Y=S\\right)P\\left(Z=S\\right) \\\\\n",
    "$$\n",
    "\n",
    "Hence, $X,Y,Z$ are not independent\n",
    "\n",
    "\n"
   ]
  },
  {
   "cell_type": "markdown",
   "metadata": {},
   "source": [
    "### Question 5 - Convolutions"
   ]
  },
  {
   "cell_type": "markdown",
   "metadata": {},
   "source": [
    "#### 5.A\n",
    "Write a program, `Q = NFoldConv(P , n)`, that takes as input:\n",
    "* A distribution, P, of a random variable that takes finitely many integer values\n",
    "* An integer n\n",
    "\n",
    "and produces the distribution, Q, of the sum of n independent repeats of random variables, each of which has the distribution P."
   ]
  },
  {
   "cell_type": "code",
   "execution_count": 35,
   "metadata": {},
   "outputs": [],
   "source": [
    "# since we implemented NFoldConv with recursion, and each recursion layer calculates many times the same values,\n",
    "# we can store those repeatitive values in a cache and not calculating them from scratch each time.\n",
    "conv_cache = {}\n",
    "def NFoldConv(P, n):\n",
    "    if n==1:\n",
    "        return lambda x: P.pmf(x)\n",
    "\n",
    "    # return the convoution between P to the other sum of n-1 independent variables\n",
    "    def convolve_multiple_rv(x):\n",
    "        if (n, x) in conv_cache:\n",
    "            return conv_cache[(n, x)]\n",
    "        else:\n",
    "            pmf = sum([ NFoldConv(P, n-1)(x-v) * P.pmf(v) for v in range(P.a, P.b+1)]) \n",
    "            conv_cache[(n, x)] = pmf\n",
    "            return pmf\n",
    "    return convolve_multiple_rv\n",
    "    "
   ]
  },
  {
   "cell_type": "markdown",
   "metadata": {},
   "source": [
    "#### 5.B\n",
    "Compute the distribution of the sum of the results of rolling a fair octahedron 17 times.\n",
    "\n",
    "<img src=\"https://upload.wikimedia.org/wikipedia/commons/2/27/Octahedron.jpg\" width=\"200\">\n"
   ]
  },
  {
   "cell_type": "code",
   "execution_count": 36,
   "metadata": {},
   "outputs": [
    {
     "data": {
      "text/plain": [
       "Text(0.5, 0, 'Q possible values')"
      ]
     },
     "execution_count": 36,
     "metadata": {},
     "output_type": "execute_result"
    },
    {
     "data": {
      "image/png": "[encoded data removed]",
      "text/plain": [
       "<Figure size 432x288 with 1 Axes>"
      ]
     },
     "metadata": {
      "needs_background": "light"
     },
     "output_type": "display_data"
    }
   ],
   "source": [
    "# X - a random variable that indicates whether the octahedron fell on its i-th face\n",
    "# X gets values from [1,2,3,4,5,6,7,8]\n",
    "# P(X) = 1/8\n",
    "n_faces = 8\n",
    "p = 1/n_faces\n",
    "P = stats.rv_discrete(values=(range(1,n_faces+1), np.repeat(p, n_faces)))\n",
    "n=17\n",
    "\n",
    "Q = NFoldConv(P, n)\n",
    "\n",
    "# Calculating Q distribution\n",
    "pos_vals_Q = np.array(range(1, n*n_faces+1))\n",
    "distribution_Q = [Q(val) for val in pos_vals_Q]\n",
    "\n",
    "fig, axes = plt.subplots()\n",
    "axes.bar(pos_vals_Q, distribution_Q);\n",
    "axes.set_title(\"Q = NFoldConv(P, 17) Distribution\")\n",
    "axes.set_ylabel(\"PDF\")\n",
    "axes.set_xlabel(\"Q possible values\")"
   ]
  }
 ],
 "metadata": {
  "kernelspec": {
   "display_name": "Python 3",
   "language": "python",
   "name": "python3"
  },
  "language_info": {
   "codemirror_mode": {
    "name": "ipython",
    "version": 3
   },
   "file_extension": ".py",
   "mimetype": "text/x-python",
   "name": "python",
   "nbconvert_exporter": "python",
   "pygments_lexer": "ipython3",
   "version": "3.8.8"
  }
 },
 "nbformat": 4,
 "nbformat_minor": 2
}
