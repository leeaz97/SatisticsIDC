{
 "cells": [
  {
   "cell_type": "markdown",
   "metadata": {},
   "source": [
    "### IDs:\n",
    "Insert yours IDs to the cell below"
   ]
  },
  {
   "cell_type": "markdown",
   "metadata": {},
   "source": [
    "ID #1:\n",
    "\n",
    "ID #2:\n"
   ]
  },
  {
   "cell_type": "markdown",
   "metadata": {},
   "source": [
    "## Read the following instructions carefully:\n",
    "\n",
    "1. This jupyter notebook contains all the step by step instructions needed for this exercise.\n",
    "1. You are free to add cells.\n",
    "1. Write your functions and your answers in this jupyter notebook only.\n",
    "1. Answers to theoretical questions should be written in **markdown cells (with $\\LaTeX$ support)**.\n",
    "1. Submit this jupyter notebook only using your ID as a filename. Not to use ZIP or RAR. For example, your Moodle submission file name should look like this (two id numbers): `123456789_987654321.ipynb`."
   ]
  },
  {
   "cell_type": "markdown",
   "metadata": {},
   "source": [
    "### Question 1 - Defective products"
   ]
  },
  {
   "cell_type": "markdown",
   "metadata": {},
   "source": [
    "In a manufacturing pipeline products are 3% defective. We are interested in examining a defective product to see what goes wrong on the belt. We need to ask the facility manager to send us a set of independent samples for examination."
   ]
  },
  {
   "cell_type": "markdown",
   "metadata": {},
   "source": [
    "#### 1.A\n",
    "\n",
    "How many independent samples should we ask for in order to have a 85% probability of having at least one defective product in the batch sent? You should write a function."
   ]
  },
  {
   "cell_type": "code",
   "execution_count": null,
   "metadata": {},
   "outputs": [],
   "source": [
    "p = 0.03\n",
    "n = ?\n",
    "probability_defective_product = 0.85\n",
    "k = 1\n",
    "\n",
    "binom(n,0.03)\n",
    "at least one - P(X >= 1)\n",
    "1-P(X=0) = 0.85\n",
    "P(X=0) = 0.15\n",
    "\n",
    "n = int(log 0.15/log 0.85) \n",
    "https://stackoverflow.com/questions/59360763/how-to-return-the-number-of-trials-n-in-a-binomial-distribution-for-a-given-pr"
   ]
  },
  {
   "cell_type": "markdown",
   "metadata": {},
   "source": [
    "#### 1.B\n",
    "Answer this part again with the following changes: products are 4% defective and we want a 95% probability of at least one defective product in the batch."
   ]
  },
  {
   "cell_type": "code",
   "execution_count": null,
   "metadata": {},
   "outputs": [],
   "source": [
    "p = 0.04\n",
    "n = ?\n",
    "probability_defective_product = 0.95\n",
    "k = 1\n",
    "\n",
    "binom(n,0.04) \n",
    "P(X>= 1)\n",
    "1-P(X=0) = 0.95\n",
    "P(X=0) = 0.05\n",
    "\n",
    "n = int(log 0.05/log 0.95) \n"
   ]
  },
  {
   "cell_type": "markdown",
   "metadata": {},
   "source": [
    "#### 1.C \n",
    "\n",
    "Consider the following cases and calculate how many independent samples are required: \n",
    "\n",
    "1. Products are 10% defective and we want a 90% probability of at least 5 defective products in the batch.\n",
    "1. Products are 30% defective and we want a 90% probability of at least 15 defective products in the batch.\n",
    "\n",
    "Explain the difference between the two results. You should use mathematical reasoning based on the properties of distributions you saw in class and visualizations in your answer."
   ]
  },
  {
   "cell_type": "code",
   "execution_count": null,
   "metadata": {},
   "outputs": [],
   "source": [
    "p = 0.10\n",
    "n = ?\n",
    "probability_defective_product = 0.90\n",
    "k = 5\n",
    "\n",
    "binom(n,0.1)\n",
    "at least 5 - P(X >= 5 )\n",
    "1-P(X=4) = 0.9\n",
    "1-cdf(4) =0.9\n",
    "\n",
    "p = 0.30\n",
    "n = ?\n",
    "probability_defective_product = 0.90\n",
    "k = 15\n",
    "\n",
    "binom(n,0.1)\n",
    "at least 15 - P(X >= 15 )\n",
    "1-P(X=14) = 0.90\n",
    "1-cdf(4) =0.9"
   ]
  },
  {
   "cell_type": "markdown",
   "metadata": {},
   "source": [
    "### Question 2 - Rent distributions in Randomistan"
   ]
  },
  {
   "cell_type": "markdown",
   "metadata": {},
   "source": [
    "The state of Randomistan conducted a survey to study the distribution of rent paid in two neighboring towns, Stochastic Heights and Random Grove, to be denoted SH and RG.<br> \n",
    "\n",
    "Here are some findings of the survey:\n",
    "* The population of SH and RG is 16,000 and 22,000 respectively. <br>\n",
    "* The mean rent in SH and RG is 6300RCU and 4200RCU respectively.\n",
    "* The median rent is 4600RCU in both towns.\n",
    "* The IQR of the rent is smaller in SH than in RG.\n",
    "\n",
    "All data generated in this question needs to be consistent with these findings."
   ]
  },
  {
   "cell_type": "markdown",
   "metadata": {},
   "source": [
    "#### 2.A\n",
    "Draw histograms that describe 2 different scenarii of possible distributions of rent in the two towns.\u000b",
    "Your histograms should:<br>\n",
    "* Use bins of 100RCU each.\n",
    "* Have at least 10 non zero bins."
   ]
  },
  {
   "cell_type": "code",
   "execution_count": null,
   "metadata": {},
   "outputs": [],
   "source": [
    "np.random.randint(low=10, high=50, size=(16000))"
   ]
  },
  {
   "cell_type": "markdown",
   "metadata": {},
   "source": [
    "#### 2.B\n",
    "Draw a histogram of a third scenario with the same properties. <br>\n",
    "In addition, in this scenario the rent in SH should have a higher variance than the rent in RG."
   ]
  },
  {
   "cell_type": "code",
   "execution_count": null,
   "metadata": {},
   "outputs": [],
   "source": []
  },
  {
   "cell_type": "markdown",
   "metadata": {},
   "source": [
    "The survey also examined the per household income (PHI) in these two places.<br>\n",
    "\n",
    "It found that:<br>\n",
    "* The mean of PHI in SH is 12500 and in RG is 8500.\n",
    "* The median is 12000 in SH and 8000 in RG.\n",
    "* The covariance of the rent and the PHI was observed to be as in the formula below with $\\alpha=97\\%$ and $\\alpha=89\\%$ in SH and in RG respectively.<br><br>\n",
    "$$Cov(rent, PHI) = \\alpha * \\sqrt{Var(rent)} * \\sqrt{Var(PHI)}$$\n",
    "\n",
    "#### 2.C\n",
    "Produce rent and PHI data for the two cities, that is consistent with these findings. The covariances in your data can deviate by up to 1% from the numbers given $\\alpha$."
   ]
  },
  {
   "cell_type": "code",
   "execution_count": null,
   "metadata": {},
   "outputs": [],
   "source": []
  },
  {
   "cell_type": "markdown",
   "metadata": {},
   "source": [
    "#### 2.D\n",
    "Produce two heatmaps that describe these two bivariate joint distributions. Make sure you carefully consider the selected binning resolution."
   ]
  },
  {
   "cell_type": "code",
   "execution_count": null,
   "metadata": {},
   "outputs": [],
   "source": []
  },
  {
   "cell_type": "markdown",
   "metadata": {},
   "source": [
    "### Question 3 - Multinomial Distributions\n",
    "\n",
    "1. Let $X \\sim Multinomial(n,\\vec{p})$ be a multinomial random variable where $n=20$ and $\\vec{p} = (0.2,  0.1,  0.1,  0.1,  0.2,  0.3)$. Note that X is a vector of counts.\n",
    "\n",
    "\n",
    "2. Let $Y = X_2 + X_3 + X_4$ be a random variable.\n",
    "\n",
    "\n",
    "3. Create $k=100$ experiments where $X$ is sampled using Python. Calculate the empirical centralized third moment of $Y$ based on your $k$ experiments.\n",
    "\n",
    "\n",
    "4. Compare your result to the calculation in class for the centralized third moment of the **binomial** distribution and explain your observation."
   ]
  },
  {
   "cell_type": "code",
   "execution_count": 2,
   "metadata": {
    "scrolled": true
   },
   "outputs": [],
   "source": [
    "import numpy as np\n",
    "n = 20\n",
    "p = (0.2,0.1,0.1,0.1,0.2,0.3)\n",
    "k = 100\n",
    "experiments = np.random.multinomial(n, p, size=k)"
   ]
  },
  {
   "cell_type": "code",
   "execution_count": 6,
   "metadata": {
    "scrolled": true
   },
   "outputs": [
    {
     "data": {
      "text/plain": [
       "array([[ 3,  4,  2,  1,  3,  7],\n",
       "       [ 4,  1,  2,  1,  4,  8],\n",
       "       [ 6,  1,  1,  3,  4,  5],\n",
       "       [ 4,  1,  2,  5,  4,  4],\n",
       "       [ 4,  3,  2,  1,  4,  6],\n",
       "       [ 5,  3,  0,  1,  4,  7],\n",
       "       [ 6,  3,  2,  2,  3,  4],\n",
       "       [ 3,  2,  1,  4,  3,  7],\n",
       "       [ 7,  2,  3,  1,  1,  6],\n",
       "       [ 4,  2,  2,  2,  2,  8],\n",
       "       [ 4,  1,  1,  3,  1, 10],\n",
       "       [ 1,  2,  2,  2,  3, 10],\n",
       "       [ 4,  0,  0,  1,  6,  9],\n",
       "       [ 4,  3,  3,  1,  3,  6],\n",
       "       [ 2,  2,  2,  5,  2,  7],\n",
       "       [ 6,  2,  1,  0,  3,  8],\n",
       "       [ 3,  2,  3,  2,  2,  8],\n",
       "       [ 7,  3,  1,  2,  3,  4],\n",
       "       [ 4,  2,  0,  1,  6,  7],\n",
       "       [ 5,  1,  3,  0,  6,  5],\n",
       "       [ 4,  1,  6,  1,  5,  3],\n",
       "       [ 3,  5,  1,  2,  4,  5],\n",
       "       [ 4,  4,  2,  2,  5,  3],\n",
       "       [ 3,  3,  3,  1,  6,  4],\n",
       "       [ 6,  1,  2,  1,  3,  7],\n",
       "       [ 6,  0,  2,  1,  2,  9],\n",
       "       [ 5,  2,  0,  2,  4,  7],\n",
       "       [ 2,  2,  4,  1,  5,  6],\n",
       "       [ 6,  1,  3,  1,  4,  5],\n",
       "       [ 4,  2,  3,  1,  3,  7],\n",
       "       [ 3,  3,  1,  1,  2, 10],\n",
       "       [ 3,  1,  2,  2,  5,  7],\n",
       "       [ 5,  1,  3,  2,  4,  5],\n",
       "       [ 4,  2,  2,  0,  3,  9],\n",
       "       [ 3,  3,  2,  1,  6,  5],\n",
       "       [ 2,  2,  4,  4,  5,  3],\n",
       "       [ 5,  1,  3,  2,  4,  5],\n",
       "       [ 3,  1,  4,  2,  3,  7],\n",
       "       [ 6,  3,  3,  1,  3,  4],\n",
       "       [ 2,  1,  1,  4,  4,  8],\n",
       "       [ 5,  2,  1,  2,  5,  5],\n",
       "       [ 2,  1,  2,  2,  6,  7],\n",
       "       [ 4,  1,  2,  0,  4,  9],\n",
       "       [ 1,  1,  1,  3,  2, 12],\n",
       "       [ 6,  0,  4,  1,  5,  4],\n",
       "       [ 2,  3,  2,  0,  3, 10],\n",
       "       [ 2,  4,  1,  1,  6,  6],\n",
       "       [ 1,  3,  2,  3,  2,  9],\n",
       "       [ 6,  1,  5,  0,  2,  6],\n",
       "       [ 2,  4,  1,  1,  3,  9],\n",
       "       [ 4,  2,  6,  0,  2,  6],\n",
       "       [ 4,  3,  1,  2,  3,  7],\n",
       "       [ 6,  2,  0,  2,  2,  8],\n",
       "       [ 0,  2,  3,  3,  4,  8],\n",
       "       [ 2,  4,  3,  1,  4,  6],\n",
       "       [ 3,  3,  2,  3,  4,  5],\n",
       "       [ 4,  2,  1,  6,  2,  5],\n",
       "       [ 4,  2,  3,  2,  3,  6],\n",
       "       [ 2,  1,  4,  1,  5,  7],\n",
       "       [ 4,  0,  2,  0,  4, 10],\n",
       "       [ 7,  0,  5,  1,  4,  3],\n",
       "       [ 4,  3,  3,  2,  2,  6],\n",
       "       [ 6,  4,  3,  2,  1,  4],\n",
       "       [ 3,  3,  1,  3,  4,  6],\n",
       "       [ 4,  2,  0,  1,  4,  9],\n",
       "       [ 2,  3,  0,  0,  6,  9],\n",
       "       [ 0,  5,  3,  6,  2,  4],\n",
       "       [ 5,  2,  0,  0,  7,  6],\n",
       "       [ 1,  1,  3,  1,  5,  9],\n",
       "       [ 1,  5,  5,  1,  4,  4],\n",
       "       [ 2,  1,  3,  4,  3,  7],\n",
       "       [ 5,  3,  4,  1,  3,  4],\n",
       "       [ 6,  3,  0,  1,  4,  6],\n",
       "       [ 6,  2,  2,  1,  1,  8],\n",
       "       [ 7,  2,  1,  1,  0,  9],\n",
       "       [ 4,  3,  4,  3,  4,  2],\n",
       "       [ 2,  1,  1,  0,  8,  8],\n",
       "       [ 2,  2,  2,  5,  3,  6],\n",
       "       [ 3,  2,  4,  5,  4,  2],\n",
       "       [ 6,  2,  2,  1,  5,  4],\n",
       "       [ 8,  1,  2,  2,  3,  4],\n",
       "       [ 3,  5,  0,  1,  1, 10],\n",
       "       [ 1,  6,  1,  1,  5,  6],\n",
       "       [ 5,  3,  1,  4,  1,  6],\n",
       "       [ 1,  2,  2,  3,  3,  9],\n",
       "       [ 4,  4,  1,  2,  3,  6],\n",
       "       [ 2,  3,  3,  0,  7,  5],\n",
       "       [ 5,  3,  3,  2,  2,  5],\n",
       "       [ 5,  2,  3,  1,  2,  7],\n",
       "       [ 4,  1,  4,  3,  4,  4],\n",
       "       [ 5,  0,  3,  1,  3,  8],\n",
       "       [ 5,  4,  5,  0,  2,  4],\n",
       "       [ 2,  3,  4,  2,  4,  5],\n",
       "       [ 1,  0,  3,  2,  6,  8],\n",
       "       [ 2,  1,  0,  2,  7,  8],\n",
       "       [ 3,  2,  1,  2,  4,  8],\n",
       "       [ 2,  5,  2,  2,  3,  6],\n",
       "       [ 5,  2,  1,  4,  5,  3],\n",
       "       [ 7,  1,  2,  1,  4,  5],\n",
       "       [ 2,  2,  0,  2,  9,  5]])"
      ]
     },
     "execution_count": 6,
     "metadata": {},
     "output_type": "execute_result"
    }
   ],
   "source": [
    "experiments"
   ]
  },
  {
   "cell_type": "code",
   "execution_count": 4,
   "metadata": {},
   "outputs": [],
   "source": [
    "Y = experiments[1] + experiments[2] + experiments[3]"
   ]
  },
  {
   "cell_type": "code",
   "execution_count": 5,
   "metadata": {},
   "outputs": [
    {
     "data": {
      "text/plain": [
       "array([14,  3,  5,  9, 12, 17])"
      ]
     },
     "execution_count": 5,
     "metadata": {},
     "output_type": "execute_result"
    }
   ],
   "source": [
    "Y"
   ]
  },
  {
   "cell_type": "code",
   "execution_count": null,
   "metadata": {},
   "outputs": [],
   "source": []
  },
  {
   "cell_type": "markdown",
   "metadata": {},
   "source": [
    "### Question 4 - Covariance and independence"
   ]
  },
  {
   "cell_type": "markdown",
   "metadata": {},
   "source": [
    "What is the variance of the sum X +Y + Z of three random variables in terms of the variances of X, Y and Z and the covariances between each pair of random variables? What happens if X,Y,Z are pairwise independent? If X,Y,Z are pairwise independent, are they necessarily collectively independent? Prove your answer."
   ]
  },
  {
   "cell_type": "code",
   "execution_count": null,
   "metadata": {},
   "outputs": [],
   "source": [
    "x ~ MNom(N,P) , X = (x1,x2,..xd)\n",
    "var(Xi + Xj + Xk) = \n",
    "    var((Xi + Xj) +Xk) = \n",
    "    var((Xi + Xj)) + 2cov((Xi + Xj),Xk) + var(Xk) = \n",
    "\n",
    "var(Xi + Xj) = var(xi) + 2cov(xi + xj) + var(xj)\n",
    "\n",
    "var(Xi + Xj + Xk) =  var(xi) + 2cov(xi + xj) + var(xj) + 2cov((Xi + Xj),Xk) + var(Xk)\n",
    "\n",
    "2cov(xi + xj) = var(xi + xj) - var(xi) - var(xj) = -2Npipj\n",
    "\n",
    "var(x) = Np(1-p) # of binom \n",
    "2cov((xi + xj),xk) = var(xi + xj + xk)  - var(xi + xj) - var(xk) = \n",
    "    N(pi+pj+pk)(1−pi-pj-pk) - (N(pi+pj)(1-pi-pj)) - (Npk(1-pk)) =\n",
    "    N[(pi+pj+pk)(1−pi-pj-pk) -((pi+pj)(1-pi-pj)) -(pk(1-pk))] = \n",
    "    pi-pi^2-pipj-pipk+ pj-pipj-pj^2-pjpk + pk-pipk-pjpk-pk^2 -(pi-pi^2-pipj + pj-pipj-pj^2) -(pk-pk^2) = \n",
    "    -pipk -pjpk  -pipk -pjpk = \n",
    "    -N[2pipk + 2pjpk]\n",
    "    \n",
    "    \n",
    " -2Npipj -N[2pipk + 2pjpk]\n",
    "\n"
   ]
  },
  {
   "cell_type": "markdown",
   "metadata": {},
   "source": [
    "### Question 5 - Convolutions"
   ]
  },
  {
   "cell_type": "markdown",
   "metadata": {},
   "source": [
    "#### 5.A\n",
    "Write a program, `Q = NFoldConv(P , n)`, that takes as input:\n",
    "* A distribution, P, of a random variable that takes finitely many integer values\n",
    "* An integer n\n",
    "\n",
    "and produces the distribution, Q, of the sum of n independent repeats of random variables, each of which has the distribution P."
   ]
  },
  {
   "cell_type": "code",
   "execution_count": null,
   "metadata": {},
   "outputs": [],
   "source": [
    "def NFoldConv(P , n):\n",
    "\n",
    "    \n",
    "    "
   ]
  },
  {
   "cell_type": "markdown",
   "metadata": {},
   "source": [
    "#### 5.B\n",
    "Compute the distribution of the sum of the results of rolling a fair octahedron 17 times.\n",
    "\n",
    "<img src=\"https://upload.wikimedia.org/wikipedia/commons/2/27/Octahedron.jpg\" width=\"200\">\n"
   ]
  },
  {
   "cell_type": "code",
   "execution_count": null,
   "metadata": {},
   "outputs": [],
   "source": []
  }
 ],
 "metadata": {
  "kernelspec": {
   "display_name": "Python 3",
   "language": "python",
   "name": "python3"
  },
  "language_info": {
   "codemirror_mode": {
    "name": "ipython",
    "version": 3
   },
   "file_extension": ".py",
   "mimetype": "text/x-python",
   "name": "python",
   "nbconvert_exporter": "python",
   "pygments_lexer": "ipython3",
   "version": "3.8.8"
  }
 },
 "nbformat": 4,
 "nbformat_minor": 2
}
